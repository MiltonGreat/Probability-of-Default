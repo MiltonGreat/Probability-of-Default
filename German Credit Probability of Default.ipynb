{
 "cells": [
  {
   "cell_type": "markdown",
   "id": "3da5bac5-5632-4c70-9d4f-bac85d25b49c",
   "metadata": {},
   "source": [
    "# German Credit Probability of Default Model"
   ]
  },
  {
   "cell_type": "markdown",
   "id": "9c2a3a05-40e0-4f18-887e-099d6f4dc37b",
   "metadata": {},
   "source": [
    "This project focuses on developing a credit scorecard model to assess an individual's creditworthiness (good/bad credit) based on financial features such as credit history, purpose, and savings. The model utilizes Weight of Evidence (WoE) and Information Value (IV) to transform categorical and numerical features into meaningful predictive variables, followed by logistic regression for credit risk assessment.\n",
    "\n",
    "The scorecard is designed to provide an interpretable and data-driven approach to credit scoring, which can be used in financial lending and risk evaluation."
   ]
  },
  {
   "cell_type": "code",
   "execution_count": 7,
   "id": "6d8c3217-3db2-43ec-bdf9-37fe283a90b4",
   "metadata": {},
   "outputs": [],
   "source": [
    "import pandas as pd\n",
    "import numpy as np\n",
    "import matplotlib.pyplot as plt\n",
    "import seaborn as sns\n",
    "from sklearn.model_selection import train_test_split\n",
    "from sklearn.preprocessing import StandardScaler, LabelEncoder, OrdinalEncoder\n",
    "from sklearn.linear_model import LogisticRegression\n",
    "from sklearn.metrics import roc_auc_score, classification_report, confusion_matrix, precision_recall_curve"
   ]
  },
  {
   "cell_type": "code",
   "execution_count": 8,
   "id": "7aa145ec-3550-4ded-a2d2-9a7e3eb77396",
   "metadata": {},
   "outputs": [],
   "source": [
    "# Load dataset\n",
    "df = pd.read_csv(\"german_credit_data.csv\")  # Update with actual file path"
   ]
  },
  {
   "cell_type": "markdown",
   "id": "576e2237-5e98-4917-b689-48108c65b09f",
   "metadata": {},
   "source": [
    "## Data Preparation"
   ]
  },
  {
   "cell_type": "code",
   "execution_count": 9,
   "id": "88342e9c-2e7d-4d6b-922c-c42d049f5c0b",
   "metadata": {},
   "outputs": [],
   "source": [
    "# Mapping German Column Names to English\n",
    "\n",
    "column_mapping = {\n",
    "    'laufkont': 'Status',               # Categorical (Ordinal)\n",
    "    'laufzeit': 'Duration',             # Numerical\n",
    "    'moral': 'Credit History',          # Categorical (Nominal)\n",
    "    'verw': 'Purpose',                  # Categorical (Nominal)\n",
    "    'hoehe': 'Amount',                  # Numerical\n",
    "    'sparkont': 'Savings',              # Categorical (Ordinal)\n",
    "    'beszeit': 'Employment Duration',   # Categorical (Ordinal)\n",
    "    'rate': 'Installment Rate',         # Categorical (Ordinal)\n",
    "    'famges': 'Personal Status Sex',    # Categorical (Nominal)\n",
    "    'buerge': 'Other Debtors',          # Categorical (Nominal)\n",
    "    'wohnzeit': 'Present Residence',    # Categorical (Ordinal)\n",
    "    'verm': 'Property',                 # Categorical (Nominal)\n",
    "    'alter': 'Age',                     # Numerical\n",
    "    'weitkred': 'Other Installment Plans',  # Categorical (Nominal)\n",
    "    'wohn': 'Housing',                  # Categorical (Nominal)\n",
    "    'bishkred': 'Number Credits',       # Categorical (Ordinal)\n",
    "    'beruf': 'Job',                     # Categorical (Nominal)\n",
    "    'pers': 'People Liable',            # Categorical (Ordinal)\n",
    "    'telef': 'Telephone',               # Categorical (Nominal)\n",
    "    'gastarb': 'Foreign Worker',        # Categorical (Nominal)\n",
    "    'kredit': 'Credit Risk'             # Binary Target Variable\n",
    "}\n",
    "\n",
    "# Rename columns to English\n",
    "df.rename(columns=column_mapping, inplace=True)\n",
    "\n",
    "# Drop missing values (alternatively, use df.fillna() for imputation)\n",
    "df = df.dropna()"
   ]
  },
  {
   "cell_type": "markdown",
   "id": "51fc33f1-01dd-4a16-b4ed-b16aa369e991",
   "metadata": {},
   "source": [
    "Cleans and structures raw credit data for modeling."
   ]
  },
  {
   "cell_type": "markdown",
   "id": "cbde473f-af87-4681-bef0-866c778f2fb2",
   "metadata": {},
   "source": [
    "## Feature Engineering"
   ]
  },
  {
   "cell_type": "markdown",
   "id": "e751fc3d-79c7-47fe-a01c-72be2ff4c04c",
   "metadata": {},
   "source": [
    "Converts raw features into WoE values that quantify risk."
   ]
  },
  {
   "cell_type": "code",
   "execution_count": 10,
   "id": "4e7867bb-91ea-4889-b5bf-d9ba03558317",
   "metadata": {},
   "outputs": [],
   "source": [
    "# ---- 3. Define Feature Groups ----\n",
    "nominal_cols = ['Credit History', 'Purpose', 'Personal Status Sex', 'Other Debtors', \n",
    "                'Property', 'Other Installment Plans', 'Housing', 'Job', 'People Liable', \n",
    "                'Telephone', 'Foreign Worker']\n",
    "\n",
    "ordinal_cols = ['Status', 'Savings', 'Employment Duration', 'Installment Rate', \n",
    "                'Present Residence', 'Number Credits']\n",
    "\n",
    "numerical_cols = ['Duration', 'Amount', 'Age']\n",
    "\n",
    "# Encode Nominal Features using LabelEncoder\n",
    "le = LabelEncoder()\n",
    "for col in nominal_cols:\n",
    "    df[col] = le.fit_transform(df[col])\n",
    "\n",
    "# Encode Ordinal Features\n",
    "ordinal_enc = OrdinalEncoder()\n",
    "df[ordinal_cols] = ordinal_enc.fit_transform(df[ordinal_cols])\n",
    "\n",
    "# Scale Numerical Features using StandardScaler\n",
    "scaler = StandardScaler()\n",
    "df[numerical_cols] = scaler.fit_transform(df[numerical_cols])"
   ]
  },
  {
   "cell_type": "markdown",
   "id": "d4bb4f8a-6b72-4755-b00e-cb3c90d40ec6",
   "metadata": {},
   "source": [
    "## Modeling Pipeline"
   ]
  },
  {
   "cell_type": "code",
   "execution_count": 11,
   "id": "63d82766-d17b-4a94-b5aa-35f386c4073c",
   "metadata": {},
   "outputs": [],
   "source": [
    "X = df.drop(columns=[\"Credit Risk\"])  # Features\n",
    "y = df[\"Credit Risk\"]  # Target (0 = Good Credit, 1 = Bad Credit)\n",
    "\n",
    "# Split data\n",
    "X_train, X_test, y_train, y_test = train_test_split(X, y, test_size=0.2, random_state=42)\n",
    "\n",
    "# Train logistic regression model\n",
    "log_reg = LogisticRegression()\n",
    "log_reg.fit(X_train, y_train)\n",
    "\n",
    "# Predictions\n",
    "y_probs = log_reg.predict_proba(X_test)[:, 1]  # Probability of default\n",
    "y_pred = (y_probs > 0.5).astype(int)  # Default threshold at 50%\n"
   ]
  },
  {
   "cell_type": "code",
   "execution_count": 14,
   "id": "c61a2726-8798-4d87-aba2-61f000660315",
   "metadata": {},
   "outputs": [
    {
     "name": "stdout",
     "output_type": "stream",
     "text": [
      "AUC-ROC: 0.793\n",
      "\n",
      "Confusion Matrix:\n",
      " [[ 28  34]\n",
      " [ 15 123]]\n",
      "\n",
      "Classification Report:\n",
      "               precision    recall  f1-score   support\n",
      "\n",
      "           0       0.65      0.45      0.53        62\n",
      "           1       0.78      0.89      0.83       138\n",
      "\n",
      "    accuracy                           0.76       200\n",
      "   macro avg       0.72      0.67      0.68       200\n",
      "weighted avg       0.74      0.76      0.74       200\n",
      "\n"
     ]
    },
    {
     "data": {
      "image/png": "[encoded data removed]",
      "text/plain": [
       "<Figure size 640x480 with 1 Axes>"
      ]
     },
     "metadata": {},
     "output_type": "display_data"
    }
   ],
   "source": [
    "# Evaluation\n",
    "auc_roc = roc_auc_score(y_test, y_probs)\n",
    "print(f\"AUC-ROC: {auc_roc:.3f}\")\n",
    "print(\"\\nConfusion Matrix:\\n\", confusion_matrix(y_test, y_pred))\n",
    "print(\"\\nClassification Report:\\n\", classification_report(y_test, y_pred))\n",
    "\n",
    "# Precision-Recall Curve\n",
    "precision, recall, thresholds = precision_recall_curve(y_test, y_probs)\n",
    "plt.plot(recall, precision, marker='.')\n",
    "plt.title(\"Precision-Recall Curve\")\n",
    "plt.xlabel(\"Recall\")\n",
    "plt.ylabel(\"Precision\")\n",
    "plt.show()"
   ]
  },
  {
   "cell_type": "markdown",
   "id": "0bc33dd6-f9fa-4c05-9b91-6c2af6c4009e",
   "metadata": {},
   "source": [
    "## Credit Scorecard: Probability of Default (PD)\n",
    "\n",
    "Assigns customers into risk bands based on their probability of default. This summarizes default risk by score band (e.g., how many customers fall into each risk category)."
   ]
  },
  {
   "cell_type": "code",
   "execution_count": 13,
   "id": "6a39a25b-787f-42aa-9af3-3f208eb64e07",
   "metadata": {},
   "outputs": [
    {
     "name": "stdout",
     "output_type": "stream",
     "text": [
      "\n",
      "🏁 Final Credit Scorecard Summary:\n",
      "             count  Default_Rate\n",
      "Score_Band                     \n",
      "Very Low       40      0.324890\n",
      "Low            40      0.607165\n",
      "Medium         40      0.779966\n",
      "High           40      0.874971\n",
      "Very High      40      0.949239\n"
     ]
    },
    {
     "name": "stderr",
     "output_type": "stream",
     "text": [
      "C:\\Users\\milto\\AppData\\Local\\Temp\\ipykernel_7004\\1516432068.py:9: FutureWarning: The default of observed=False is deprecated and will be changed to True in a future version of pandas. Pass observed=False to retain current behavior or observed=True to adopt the future default and silence this warning.\n",
      "  scorecard_summary = df_test.groupby(\"Score_Band\")[\"PD_Score\"].agg([\"count\", \"mean\"]).rename(columns={\"mean\": \"Default_Rate\"})\n"
     ]
    }
   ],
   "source": [
    "df_test = X_test.copy()\n",
    "df_test[\"PD_Score\"] = y_probs\n",
    "\n",
    "# Assign score bands\n",
    "df_test[\"Score_Band\"] = pd.qcut(df_test[\"PD_Score\"], q=5, labels=[\"Very Low\", \"Low\", \"Medium\", \"High\", \"Very High\"])\n",
    "\n",
    "# Show default rates by score band\n",
    "scorecard_summary = df_test.groupby(\"Score_Band\")[\"PD_Score\"].agg([\"count\", \"mean\"]).rename(columns={\"mean\": \"Default_Rate\"})\n",
    "print(\"\\n🏁 Final Credit Scorecard Summary:\\n\", scorecard_summary)"
   ]
  },
  {
   "cell_type": "markdown",
   "id": "25d0927d-b890-44af-b9e2-873fd0f4dc86",
   "metadata": {},
   "source": [
    "### Key Takeaways\n",
    "\n",
    "- Model performs well in identifying bad credit cases (recall = 89%), meaning it catches most defaulters.\n",
    "- But it struggles with good credit cases (recall = 45%), meaning many creditworthy customers are wrongly flagged as bad (False Positives).\n",
    "- Overall accuracy is 76%, which is decent but not perfect.\n",
    "- AUC-ROC (0.793) indicates a good ability to distinguish between good & bad credit."
   ]
  },
  {
   "cell_type": "markdown",
   "id": "33a16d5d-1426-4eba-9ee5-e4f77eb75ab8",
   "metadata": {},
   "source": [
    "## Conclusion\n",
    "\n",
    "In this project, I developed a binary classification model to predict creditworthiness (good/bad credit) using a dataset containing information about customers' credit history and default behavior. The model leveraged key financial indicators such as credit utilization, monthly income, and loan amount to assess the likelihood of default.\n",
    "\n",
    "### Future Improvements\n",
    "\n",
    "To enhance the model’s performance, I can:\n",
    "\n",
    "- Fine-tune the classification threshold to reduce false positives (good customers misclassified as bad).\n",
    "- Explore alternative machine learning models (e.g., Random Forest, XGBoost) to improve precision and recall.\n",
    "- Perform feature engineering to better capture financial patterns affecting credit risk."
   ]
  }
 ],
 "metadata": {
  "kernelspec": {
   "display_name": "Python 3 (ipykernel)",
   "language": "python",
   "name": "python3"
  },
  "language_info": {
   "codemirror_mode": {
    "name": "ipython",
    "version": 3
   },
   "file_extension": ".py",
   "mimetype": "text/x-python",
   "name": "python",
   "nbconvert_exporter": "python",
   "pygments_lexer": "ipython3",
   "version": "3.12.3"
  }
 },
 "nbformat": 4,
 "nbformat_minor": 5
}
